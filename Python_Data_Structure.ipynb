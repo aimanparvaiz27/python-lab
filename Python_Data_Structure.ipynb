{
  "nbformat": 4,
  "nbformat_minor": 0,
  "metadata": {
    "colab": {
      "provenance": []
    },
    "kernelspec": {
      "name": "python3",
      "display_name": "Python 3"
    },
    "language_info": {
      "name": "python"
    }
  },
  "cells": [
    {
      "cell_type": "code",
      "execution_count": 1,
      "metadata": {
        "colab": {
          "base_uri": "https://localhost:8080/",
          "height": 36
        },
        "id": "366sZ9WHpnzl",
        "outputId": "407c7f37-70c6-4254-d3d8-a143642d82e9"
      },
      "outputs": [
        {
          "output_type": "execute_result",
          "data": {
            "text/plain": [
              "'\\nList are ordered, mutable and contain elements of different data types\\n'"
            ],
            "application/vnd.google.colaboratory.intrinsic+json": {
              "type": "string"
            }
          },
          "metadata": {},
          "execution_count": 1
        }
      ],
      "source": [
        "# Introduction of List Data Structure\n",
        "\"\"\"\n",
        "List are ordered, mutable and contain elements of different data types\n",
        "\"\"\""
      ]
    },
    {
      "cell_type": "code",
      "source": [
        "# Creating a list\n",
        "my_list = [1, \"Apple\", 3.14, True]\n",
        "print(type(my_list))\n",
        "print(my_list)"
      ],
      "metadata": {
        "colab": {
          "base_uri": "https://localhost:8080/"
        },
        "id": "ILWyd4MuqQrL",
        "outputId": "9dd3a98f-bb04-408a-af3d-b7c03e2bd19a"
      },
      "execution_count": 2,
      "outputs": [
        {
          "output_type": "stream",
          "name": "stdout",
          "text": [
            "<class 'list'>\n",
            "[1, 'Apple', 3.14, True]\n"
          ]
        }
      ]
    },
    {
      "cell_type": "markdown",
      "source": [],
      "metadata": {
        "id": "KoQRsCBAE5Os"
      }
    },
    {
      "cell_type": "code",
      "source": [
        "# Accessing an elements of list\n",
        "fruits = [\"Apple\", \"Bnana\", \"Cherry\", \"Mango\"]\n",
        "print(fruits[0])\n",
        "print(fruits[2])\n",
        "print(fruits[-1])"
      ],
      "metadata": {
        "colab": {
          "base_uri": "https://localhost:8080/"
        },
        "id": "vaTX0Qhgqj9u",
        "outputId": "31bbab0f-f406-4959-995d-9fe2d8e65182"
      },
      "execution_count": 3,
      "outputs": [
        {
          "output_type": "stream",
          "name": "stdout",
          "text": [
            "Apple\n",
            "Cherry\n",
            "Mango\n"
          ]
        }
      ]
    },
    {
      "cell_type": "code",
      "source": [
        "print(fruits[1:3])\n",
        "print(fruits[:2])\n",
        "print(fruits[2:])\n",
        "print(fruits[:])\n",
        "print(fruits[-1:-3])\n",
        "print(fruits[-1])\n",
        "print(fruits[-3:-1])"
      ],
      "metadata": {
        "colab": {
          "base_uri": "https://localhost:8080/"
        },
        "id": "83l279ZdsTEC",
        "outputId": "848d7f14-66d2-49be-b908-6e8add5dff97"
      },
      "execution_count": 4,
      "outputs": [
        {
          "output_type": "stream",
          "name": "stdout",
          "text": [
            "['Bnana', 'Cherry']\n",
            "['Apple', 'Bnana']\n",
            "['Cherry', 'Mango']\n",
            "['Apple', 'Bnana', 'Cherry', 'Mango']\n",
            "[]\n",
            "Mango\n",
            "['Bnana', 'Cherry']\n"
          ]
        }
      ]
    },
    {
      "cell_type": "code",
      "source": [
        "# Modifying the List Elements\n",
        "fruits[1] = \"Kiwi\"\n",
        "print(fruits)"
      ],
      "metadata": {
        "colab": {
          "base_uri": "https://localhost:8080/"
        },
        "id": "P_rQkmHitkDt",
        "outputId": "16d66765-5c07-4b50-cd58-2cd5c0bc5c8e"
      },
      "execution_count": 5,
      "outputs": [
        {
          "output_type": "stream",
          "name": "stdout",
          "text": [
            "['Apple', 'Kiwi', 'Cherry', 'Mango']\n"
          ]
        }
      ]
    },
    {
      "cell_type": "code",
      "source": [
        "# List Methods, Append() method will add the elment to the end of list\n",
        "fruits.append(\"Orange\")\n",
        "print(fruits)"
      ],
      "metadata": {
        "colab": {
          "base_uri": "https://localhost:8080/"
        },
        "id": "vU9i7rjhvQyR",
        "outputId": "67ee7528-ea3a-4cbe-c8cc-e1a19054e98c"
      },
      "execution_count": 6,
      "outputs": [
        {
          "output_type": "stream",
          "name": "stdout",
          "text": [
            "['Apple', 'Kiwi', 'Cherry', 'Mango', 'Orange']\n"
          ]
        }
      ]
    },
    {
      "cell_type": "code",
      "source": [
        "# Insert() method will add the element on the particular index of list\n",
        "fruits.insert(1, \"Watermelon\")\n",
        "print(fruits)"
      ],
      "metadata": {
        "colab": {
          "base_uri": "https://localhost:8080/"
        },
        "id": "9Wug5G7kv7ld",
        "outputId": "46365b7e-5eba-44c9-b5ed-b251236e7a8c"
      },
      "execution_count": 7,
      "outputs": [
        {
          "output_type": "stream",
          "name": "stdout",
          "text": [
            "['Apple', 'Watermelon', 'Kiwi', 'Cherry', 'Mango', 'Orange']\n"
          ]
        }
      ]
    },
    {
      "cell_type": "code",
      "source": [
        "# Remove(), it'll remove the first occurance of an item\n",
        "fruits.remove(\"Orange\")\n",
        "print(fruits)"
      ],
      "metadata": {
        "colab": {
          "base_uri": "https://localhost:8080/"
        },
        "id": "csyuR7rhw4bk",
        "outputId": "7142cfd0-9b37-4ee7-f5b8-22e77bb2d5c4"
      },
      "execution_count": 8,
      "outputs": [
        {
          "output_type": "stream",
          "name": "stdout",
          "text": [
            "['Apple', 'Watermelon', 'Kiwi', 'Cherry', 'Mango']\n"
          ]
        }
      ]
    },
    {
      "cell_type": "code",
      "source": [
        "# POP() remove and return the last\n",
        "popped_fruit = fruits.pop()\n",
        "print(popped_fruit)\n",
        "print(fruits)"
      ],
      "metadata": {
        "colab": {
          "base_uri": "https://localhost:8080/"
        },
        "id": "azvfGB7jxrA1",
        "outputId": "0e29cca2-1a16-4525-b1ca-2183aaa36aaf"
      },
      "execution_count": 9,
      "outputs": [
        {
          "output_type": "stream",
          "name": "stdout",
          "text": [
            "Mango\n",
            "['Apple', 'Watermelon', 'Kiwi', 'Cherry']\n"
          ]
        }
      ]
    },
    {
      "cell_type": "code",
      "source": [
        "fruits.index('Kiwi')"
      ],
      "metadata": {
        "colab": {
          "base_uri": "https://localhost:8080/"
        },
        "id": "ZXufQcfryUNM",
        "outputId": "fb934d21-b2bd-414b-9993-effa9503e0ba"
      },
      "execution_count": 10,
      "outputs": [
        {
          "output_type": "execute_result",
          "data": {
            "text/plain": [
              "2"
            ]
          },
          "metadata": {},
          "execution_count": 10
        }
      ]
    },
    {
      "cell_type": "code",
      "source": [
        "fruits.sort()"
      ],
      "metadata": {
        "id": "fX8C4kwkzAnK"
      },
      "execution_count": 11,
      "outputs": []
    },
    {
      "cell_type": "code",
      "source": [
        "fruits"
      ],
      "metadata": {
        "colab": {
          "base_uri": "https://localhost:8080/"
        },
        "id": "-AWkoEBNzhMO",
        "outputId": "5b25369e-1582-483d-fc78-e7601132c830"
      },
      "execution_count": 12,
      "outputs": [
        {
          "output_type": "execute_result",
          "data": {
            "text/plain": [
              "['Apple', 'Cherry', 'Kiwi', 'Watermelon']"
            ]
          },
          "metadata": {},
          "execution_count": 12
        }
      ]
    },
    {
      "cell_type": "code",
      "source": [
        "fruits.reverse()"
      ],
      "metadata": {
        "id": "Ua_yRsB_zIvk"
      },
      "execution_count": 13,
      "outputs": []
    },
    {
      "cell_type": "code",
      "source": [
        "fruits"
      ],
      "metadata": {
        "colab": {
          "base_uri": "https://localhost:8080/"
        },
        "id": "FhjAvXi1zl-w",
        "outputId": "e7d2ad9e-f0f6-449f-cfe9-066da9094734"
      },
      "execution_count": 14,
      "outputs": [
        {
          "output_type": "execute_result",
          "data": {
            "text/plain": [
              "['Watermelon', 'Kiwi', 'Cherry', 'Apple']"
            ]
          },
          "metadata": {},
          "execution_count": 14
        }
      ]
    },
    {
      "cell_type": "code",
      "source": [
        "# Slicing List\n",
        "numbers = [1,2,3,4,5,6,7,8,9,10]\n",
        "print(numbers[2:7])\n",
        "print(numbers[:5])\n",
        "print(numbers[::3])\n",
        "print(numbers[5:])\n",
        "print(numbers[:])"
      ],
      "metadata": {
        "colab": {
          "base_uri": "https://localhost:8080/"
        },
        "id": "oSqVn0i_zoHV",
        "outputId": "da46c132-d2be-4c8a-f43b-f7ca92319b0a"
      },
      "execution_count": 15,
      "outputs": [
        {
          "output_type": "stream",
          "name": "stdout",
          "text": [
            "[3, 4, 5, 6, 7]\n",
            "[1, 2, 3, 4, 5]\n",
            "[1, 4, 7, 10]\n",
            "[6, 7, 8, 9, 10]\n",
            "[1, 2, 3, 4, 5, 6, 7, 8, 9, 10]\n"
          ]
        }
      ]
    },
    {
      "cell_type": "code",
      "source": [
        "# Iterating the list\n",
        "for numbers in numbers:\n",
        "  print(numbers)"
      ],
      "metadata": {
        "colab": {
          "base_uri": "https://localhost:8080/"
        },
        "id": "hoA8SL6-FkaG",
        "outputId": "e68ed2fa-e86b-4024-e5e6-28d0783cea99"
      },
      "execution_count": 16,
      "outputs": [
        {
          "output_type": "stream",
          "name": "stdout",
          "text": [
            "1\n",
            "2\n",
            "3\n",
            "4\n",
            "5\n",
            "6\n",
            "7\n",
            "8\n",
            "9\n",
            "10\n"
          ]
        }
      ]
    },
    {
      "cell_type": "code",
      "source": [
        "# Iterating the numbers along with index by using enumerate()\n",
        "numbers = [10, 20, 30, 40, 50]\n",
        "\n",
        "for index, number in enumerate(numbers):\n",
        "    print(index, number)"
      ],
      "metadata": {
        "colab": {
          "base_uri": "https://localhost:8080/"
        },
        "id": "jLQZhc_8F05C",
        "outputId": "c22c110b-e00d-42e7-80d6-bfb525b49e10"
      },
      "execution_count": 17,
      "outputs": [
        {
          "output_type": "stream",
          "name": "stdout",
          "text": [
            "0 10\n",
            "1 20\n",
            "2 30\n",
            "3 40\n",
            "4 50\n"
          ]
        }
      ]
    },
    {
      "cell_type": "markdown",
      "source": [
        "**Introduction to Tuples**\n",
        "\n",
        "Tuples are ordered collection of items that are immutables, similar to list.\n"
      ],
      "metadata": {
        "id": "kGZKOs1QVFkt"
      }
    },
    {
      "cell_type": "code",
      "source": [
        "# Creating a Tuple\n",
        "empty_tuple = ()\n",
        "print(type(empty_tuple))"
      ],
      "metadata": {
        "colab": {
          "base_uri": "https://localhost:8080/"
        },
        "id": "kQ5RahtuVLVg",
        "outputId": "4a1f0afb-32a8-4675-94c4-f2041dfa4294"
      },
      "execution_count": 18,
      "outputs": [
        {
          "output_type": "stream",
          "name": "stdout",
          "text": [
            "<class 'tuple'>\n"
          ]
        }
      ]
    },
    {
      "cell_type": "code",
      "source": [
        "mixed_tuple = (1, \"Hello\", 3.14, True)\n",
        "print(mixed_tuple)"
      ],
      "metadata": {
        "colab": {
          "base_uri": "https://localhost:8080/"
        },
        "id": "E5RehaB5Xq71",
        "outputId": "baa0e6fb-af9b-4089-e01c-d07bf745aa00"
      },
      "execution_count": 19,
      "outputs": [
        {
          "output_type": "stream",
          "name": "stdout",
          "text": [
            "(1, 'Hello', 3.14, True)\n"
          ]
        }
      ]
    },
    {
      "cell_type": "code",
      "source": [
        "# Accessing Tuple Elements\n",
        "print(mixed_tuple[1])\n",
        "print(mixed_tuple[-1])\n",
        "print(mixed_tuple[1:3])\n",
        "print(mixed_tuple[::-1])"
      ],
      "metadata": {
        "colab": {
          "base_uri": "https://localhost:8080/"
        },
        "id": "6HK8XolkYCix",
        "outputId": "026b7b05-9750-45a0-c9c0-94ca33560c12"
      },
      "execution_count": 21,
      "outputs": [
        {
          "output_type": "stream",
          "name": "stdout",
          "text": [
            "Hello\n",
            "True\n",
            "('Hello', 3.14)\n",
            "(True, 3.14, 'Hello', 1)\n"
          ]
        }
      ]
    },
    {
      "cell_type": "code",
      "source": [
        "from typing_extensions import Concatenate\n",
        "# Concatenation of tuple\n",
        "tuple1 = (1,2,3)\n",
        "tuple2 = (4,5,6)\n",
        "Concatenate_tuple = tuple1 + tuple2\n",
        "print(Concatenate_tuple)"
      ],
      "metadata": {
        "colab": {
          "base_uri": "https://localhost:8080/"
        },
        "id": "_Rq5sBpzZY0U",
        "outputId": "1e92a2e5-3750-4bbe-8b9b-17a48a3ae7ec"
      },
      "execution_count": 22,
      "outputs": [
        {
          "output_type": "stream",
          "name": "stdout",
          "text": [
            "(1, 2, 3, 4, 5, 6)\n"
          ]
        }
      ]
    },
    {
      "cell_type": "code",
      "source": [
        "Concatenate_tuple*3"
      ],
      "metadata": {
        "colab": {
          "base_uri": "https://localhost:8080/"
        },
        "id": "rCP77m-KZ_nj",
        "outputId": "6a8e8385-cad6-446d-9ffe-f843ad7d3cdc"
      },
      "execution_count": 23,
      "outputs": [
        {
          "output_type": "execute_result",
          "data": {
            "text/plain": [
              "(1, 2, 3, 4, 5, 6, 1, 2, 3, 4, 5, 6, 1, 2, 3, 4, 5, 6)"
            ]
          },
          "metadata": {},
          "execution_count": 23
        }
      ]
    },
    {
      "cell_type": "code",
      "source": [
        "# Tuple Methods\n",
        "print(mixed_tuple.count(1))\n",
        "print(mixed_tuple.index(3.14))"
      ],
      "metadata": {
        "colab": {
          "base_uri": "https://localhost:8080/"
        },
        "id": "2Kj7KFqJas9k",
        "outputId": "a1750237-ea1f-4fca-9870-d1b1d147e17e"
      },
      "execution_count": 24,
      "outputs": [
        {
          "output_type": "stream",
          "name": "stdout",
          "text": [
            "2\n",
            "2\n"
          ]
        }
      ]
    },
    {
      "cell_type": "code",
      "source": [
        "# Pack Tuple\n",
        "packed_tuple = 1,2,3,4,5\n",
        "print(packed_tuple)"
      ],
      "metadata": {
        "colab": {
          "base_uri": "https://localhost:8080/"
        },
        "id": "1LRggpF_b-8N",
        "outputId": "28ce13b8-cc49-42bf-ba14-9d492c59b8fc"
      },
      "execution_count": 25,
      "outputs": [
        {
          "output_type": "stream",
          "name": "stdout",
          "text": [
            "(1, 2, 3, 4, 5)\n"
          ]
        }
      ]
    },
    {
      "cell_type": "code",
      "source": [
        "packed_tuple = (10, 20, 30)\n",
        "a, b, c = packed_tuple\n",
        "print(a)\n",
        "print(b)\n",
        "print(c)"
      ],
      "metadata": {
        "colab": {
          "base_uri": "https://localhost:8080/"
        },
        "id": "chv4k2hacJNn",
        "outputId": "9b1b09af-bdbd-4cf0-87b1-c99907b0d558"
      },
      "execution_count": 29,
      "outputs": [
        {
          "output_type": "stream",
          "name": "stdout",
          "text": [
            "10\n",
            "20\n",
            "30\n"
          ]
        }
      ]
    },
    {
      "cell_type": "code",
      "source": [
        "# Nested Tuple\n",
        "nested_tuple = ((1,2,3), (4,5,6), (7,8,9))\n",
        "print(nested_tuple[1][2])\n",
        "print(nested_tuple[0][:2])"
      ],
      "metadata": {
        "colab": {
          "base_uri": "https://localhost:8080/"
        },
        "id": "PJRfAhULeibC",
        "outputId": "46dbfc49-eddb-4ba8-f1a1-30bd587052d0"
      },
      "execution_count": 31,
      "outputs": [
        {
          "output_type": "stream",
          "name": "stdout",
          "text": [
            "6\n",
            "(1, 2)\n"
          ]
        }
      ]
    },
    {
      "cell_type": "code",
      "source": [
        "# Iterating over nested tuple\n",
        "for item in nested_tuple:\n",
        "  print(item)"
      ],
      "metadata": {
        "colab": {
          "base_uri": "https://localhost:8080/"
        },
        "id": "UtHJ2WvSfd22",
        "outputId": "f9657058-b431-4515-9123-9d2e94641735"
      },
      "execution_count": 32,
      "outputs": [
        {
          "output_type": "stream",
          "name": "stdout",
          "text": [
            "(1, 2, 3)\n",
            "(4, 5, 6)\n",
            "(7, 8, 9)\n"
          ]
        }
      ]
    },
    {
      "cell_type": "markdown",
      "source": [
        "**Sets**\n",
        "\n",
        "Sets are built in data type in python used to store unique items, it's performing mathematical operations like union, intersects, difference etc."
      ],
      "metadata": {
        "id": "NqII8C4BgHkC"
      }
    },
    {
      "cell_type": "code",
      "source": [
        "# Sets are unordered, unchangeable and it's store only unique values\n",
        "\n",
        "my_set = {1,2,3,4,5}\n",
        "print(my_set)\n",
        "\n",
        "# Convert list and tuple in sets\n",
        "my_list = [1, \"True\", 3.13]\n",
        "my_set = set(my_list)\n",
        "print(my_set)\n",
        "\n",
        "my_tuple = (1, \"False\", 0.9)\n",
        "my_set = set(my_tuple)\n",
        "print(my_set)"
      ],
      "metadata": {
        "colab": {
          "base_uri": "https://localhost:8080/"
        },
        "id": "2bxUmCC8gvdL",
        "outputId": "0cc71e72-99b9-4513-9824-91a6173113d2"
      },
      "execution_count": 35,
      "outputs": [
        {
          "output_type": "stream",
          "name": "stdout",
          "text": [
            "{1, 2, 3, 4, 5}\n",
            "{1, 3.13, 'True'}\n",
            "{0.9, 1, 'False'}\n"
          ]
        }
      ]
    },
    {
      "cell_type": "code",
      "source": [
        "# Access the sets by using loop\n",
        "my_set = {1,2,3,4,5}\n",
        "for item in my_set:\n",
        "  print(item)"
      ],
      "metadata": {
        "colab": {
          "base_uri": "https://localhost:8080/"
        },
        "id": "1Ld8VeBiwTa3",
        "outputId": "6dfe32e7-1657-48e8-d113-d85cb45b3f06"
      },
      "execution_count": 36,
      "outputs": [
        {
          "output_type": "stream",
          "name": "stdout",
          "text": [
            "1\n",
            "2\n",
            "3\n",
            "4\n",
            "5\n"
          ]
        }
      ]
    },
    {
      "cell_type": "code",
      "source": [
        "# Set Methods\n",
        "my_set = {1,2,3,4,5}\n",
        "my_set.add(7)\n",
        "print(my_set)\n",
        "\n",
        "my_set.remove(3)\n",
        "print(my_set)\n",
        "\n",
        "my_set.clear()\n",
        "print(my_set)\n",
        "\n",
        "# union and intersection methods\n",
        "set1 = {1,2,3,4,5}\n",
        "set2 = {4,5,6,7,8}\n",
        "print(set1.union(set2))\n",
        "print(set1.intersection(set2))\n"
      ],
      "metadata": {
        "colab": {
          "base_uri": "https://localhost:8080/"
        },
        "id": "HdL5wuXXFs_0",
        "outputId": "5dd09fde-581d-473e-9a0e-8bada49d0428"
      },
      "execution_count": 59,
      "outputs": [
        {
          "output_type": "stream",
          "name": "stdout",
          "text": [
            "{1, 2, 3, 4, 5, 7}\n",
            "{1, 2, 4, 5, 7}\n",
            "set()\n",
            "{1, 2, 3, 4, 5, 6, 7, 8}\n",
            "{4, 5}\n"
          ]
        }
      ]
    },
    {
      "cell_type": "markdown",
      "source": [
        "**Dictionaries**\n",
        "\n",
        "Dictionaries are used to store data values in Key:Pair form, they are unordered, changeable and allow only unique keys."
      ],
      "metadata": {
        "id": "v1O5LzFrxG-t"
      }
    },
    {
      "cell_type": "code",
      "source": [
        "dic = {\n",
        "    \"name\": \"Aiman\",\n",
        "    \"age\": 25,\n",
        "    \"city\": \"Lahore\"\n",
        "}\n",
        "print(dic)"
      ],
      "metadata": {
        "colab": {
          "base_uri": "https://localhost:8080/"
        },
        "id": "7MM0819rxMkm",
        "outputId": "9f4dc965-155c-44a7-8366-9ecd06f48d19"
      },
      "execution_count": 37,
      "outputs": [
        {
          "output_type": "stream",
          "name": "stdout",
          "text": [
            "{'name': 'Aiman', 'age': 25, 'city': 'Lahore'}\n"
          ]
        }
      ]
    },
    {
      "cell_type": "code",
      "source": [
        "# Access the dictionary value by using it key\n",
        "print(dic[\"name\"])\n",
        "print(dic[\"age\"])\n",
        "\n",
        "# Assign the new value to dictionay key by using assignment operator\n",
        "dic[\"age\"] = 26\n",
        "print(dic[\"age\"])\n",
        "\n",
        "# Adding the new key:value pair in dictionary\n",
        "dic[\"Country\"] = \"Pakistan\"\n",
        "print(dic)\n",
        "\n",
        "# Adding the new key:value pair in dictionary by using the update() method\n",
        "dic.update({\"Gender\": \"Female\"})\n",
        "print(dic)\n"
      ],
      "metadata": {
        "colab": {
          "base_uri": "https://localhost:8080/"
        },
        "id": "ebs87yJK03ar",
        "outputId": "d3c2ffee-7d2f-4f73-de69-d6560b108496"
      },
      "execution_count": 41,
      "outputs": [
        {
          "output_type": "stream",
          "name": "stdout",
          "text": [
            "Aiman\n",
            "26\n",
            "26\n",
            "{'name': 'Aiman', 'age': 26, 'city': 'Lahore', 'Country': 'Pakistan'}\n",
            "{'name': 'Aiman', 'age': 26, 'city': 'Lahore', 'Country': 'Pakistan', 'Gender': 'Female'}\n"
          ]
        }
      ]
    },
    {
      "cell_type": "code",
      "source": [
        "from os import name\n",
        "# Dictionaries Methods\n",
        "print(dic.keys())\n",
        "print(dic.values())\n",
        "print(dic.items())\n",
        "print(dic.get(\"name\"))"
      ],
      "metadata": {
        "colab": {
          "base_uri": "https://localhost:8080/"
        },
        "id": "7j0ZKvd468j2",
        "outputId": "67e5954a-7b39-4b23-9f15-3c4850468340"
      },
      "execution_count": 46,
      "outputs": [
        {
          "output_type": "stream",
          "name": "stdout",
          "text": [
            "dict_keys(['name', 'age', 'city', 'Country', 'Gender'])\n",
            "dict_values(['Aiman', 26, 'Lahore', 'Pakistan', 'Female'])\n",
            "dict_items([('name', 'Aiman'), ('age', 26), ('city', 'Lahore'), ('Country', 'Pakistan'), ('Gender', 'Female')])\n",
            "Aiman\n"
          ]
        }
      ]
    },
    {
      "cell_type": "code",
      "source": [
        "# Nested dctionaries\n",
        "students = {\n",
        "    \"student1\":{\n",
        "        \"name\": \"Aiman\",\n",
        "        \"age\": 25,\n",
        "        \"city\": \"Lahore\"\n",
        "    },\n",
        "    \"student2\":{\n",
        "        \"name\": \"Ali\",\n",
        "        \"age\": 26,\n",
        "        \"city\": \"Karachi\"\n",
        "    },\n",
        "    \"student3\":{\n",
        "        \"name\": \"Areeb\",\n",
        "        \"age\": 27,\n",
        "        \"city\": \"Islamabad\"\n",
        "    }\n",
        "}\n",
        "\n",
        "print(students)\n",
        "\n",
        "# Access items in Nested dictionary\n",
        "print(students[\"student1\"][\"age\"])"
      ],
      "metadata": {
        "colab": {
          "base_uri": "https://localhost:8080/"
        },
        "id": "ervn14uy_PPL",
        "outputId": "e4e2bc06-ddcb-474d-de4d-4733b705280b"
      },
      "execution_count": 47,
      "outputs": [
        {
          "output_type": "stream",
          "name": "stdout",
          "text": [
            "{'student1': {'name': 'Aiman', 'age': 25, 'city': 'Lahore'}, 'student2': {'name': 'Ali', 'age': 26, 'city': 'Karachi'}, 'student3': {'name': 'Areeb', 'age': 27, 'city': 'Islamabad'}}\n",
            "25\n"
          ]
        }
      ]
    },
    {
      "cell_type": "code",
      "source": [
        "# Using Loop\n",
        "for items in students.items():\n",
        "  print(items)\n",
        "\n",
        "for key, value in students.items():\n",
        "  print(key, value)"
      ],
      "metadata": {
        "colab": {
          "base_uri": "https://localhost:8080/"
        },
        "id": "K3XnA2LJAw0P",
        "outputId": "06d774e1-b745-4447-bdb8-ccca4cf64df6"
      },
      "execution_count": 49,
      "outputs": [
        {
          "output_type": "stream",
          "name": "stdout",
          "text": [
            "('student1', {'name': 'Aiman', 'age': 25, 'city': 'Lahore'})\n",
            "('student2', {'name': 'Ali', 'age': 26, 'city': 'Karachi'})\n",
            "('student3', {'name': 'Areeb', 'age': 27, 'city': 'Islamabad'})\n",
            "student1 {'name': 'Aiman', 'age': 25, 'city': 'Lahore'}\n",
            "student2 {'name': 'Ali', 'age': 26, 'city': 'Karachi'}\n",
            "student3 {'name': 'Areeb', 'age': 27, 'city': 'Islamabad'}\n"
          ]
        }
      ]
    }
  ]
}