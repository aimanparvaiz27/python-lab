{
  "nbformat": 4,
  "nbformat_minor": 0,
  "metadata": {
    "colab": {
      "provenance": []
    },
    "kernelspec": {
      "name": "python3",
      "display_name": "Python 3"
    },
    "language_info": {
      "name": "python"
    }
  },
  "cells": [
    {
      "cell_type": "code",
      "execution_count": 1,
      "metadata": {
        "colab": {
          "base_uri": "https://localhost:8080/"
        },
        "id": "NCppx1HekMH2",
        "outputId": "0ecc023e-00cd-497b-f410-68843dabbcc4"
      },
      "outputs": [
        {
          "output_type": "stream",
          "name": "stdout",
          "text": [
            "Hello,World!\n"
          ]
        }
      ],
      "source": [
        "## 1. Syntax and Semantics\\n\n",
        "##**Question 1:** Write a Python program to print \\\"Hello, World!\\\".\"\n",
        "\n",
        "print(\"Hello,World!\")"
      ]
    },
    {
      "cell_type": "code",
      "source": [
        "## **Question 2:** Write a Python program that takes a user input and prints it.\n",
        "\n",
        "user_input = input(\"Enter a message:\")\n",
        "print(\"You Entered:\", user_input)"
      ],
      "metadata": {
        "colab": {
          "base_uri": "https://localhost:8080/"
        },
        "id": "aFwJfm66krLi",
        "outputId": "02d1c4e9-99dc-4c2c-e50a-a143c6e9b945"
      },
      "execution_count": 2,
      "outputs": [
        {
          "output_type": "stream",
          "name": "stdout",
          "text": [
            "Enter a message:hello\n",
            "You Entered: hello\n"
          ]
        }
      ]
    },
    {
      "cell_type": "code",
      "source": [
        "## \"**Question 3:** Write a Python program to check if a number is positive, negative, or zero.\"\n",
        "\n",
        "number = float(input(\"Enter a number:\"))\n",
        "if number > 0:\n",
        "  print(\"The number is positive.\")\n",
        "elif number < 0:\n",
        "  print(\"The number is negative.\")\n",
        "else:\n",
        "  print(\"The number is zero.\")"
      ],
      "metadata": {
        "colab": {
          "base_uri": "https://localhost:8080/"
        },
        "id": "CzgoDrLPlGMu",
        "outputId": "d6a83e68-4d8d-4cf5-e748-98717f783aa5"
      },
      "execution_count": 6,
      "outputs": [
        {
          "output_type": "stream",
          "name": "stdout",
          "text": [
            "Enter a number:5\n",
            "The number is positive.\n"
          ]
        }
      ]
    },
    {
      "cell_type": "code",
      "source": [],
      "metadata": {
        "id": "NjXj_wRembRP"
      },
      "execution_count": null,
      "outputs": []
    },
    {
      "cell_type": "code",
      "source": [
        "#\"**Question 4:** Write a Python program to find the largest of three numbers.\"\n",
        "\n",
        "num1 = float(input(\"Enter the first number:\"))\n",
        "num2 = float(input(\"Enter the second number:\"))\n",
        "num3 = float(input(\"Enter the third number:\"))\n",
        "if num1 >= num2 and num1 >= num3:\n",
        "  largest = num1\n",
        "elif num2 >= num1 and num2 >= num3:\n",
        "  largest = num2\n",
        "else:\n",
        "  largest = num3\n",
        "  print(\"The largest number is:\", largest)\n",
        "\n"
      ],
      "metadata": {
        "colab": {
          "base_uri": "https://localhost:8080/"
        },
        "id": "lWcWwEezmY9F",
        "outputId": "f1528f65-3a95-4b59-8c68-5ccc471fe058"
      },
      "execution_count": 8,
      "outputs": [
        {
          "output_type": "stream",
          "name": "stdout",
          "text": [
            "Enter the first number:10\n",
            "Enter the second number:56\n",
            "Enter the third number:90\n",
            "The largest number is: 90.0\n"
          ]
        }
      ]
    },
    {
      "cell_type": "code",
      "source": [
        "#    \"**Question 5:** Write a Python program to calculate the factorial of a number.\"\n",
        "\n",
        "num = int(input(\"Enter a number:\"))\n",
        "factorial = 1\n",
        "if num < 0:\n",
        "  print(\"Factorial is not defined for negative numbers.\")\n",
        "elif num == 0:\n",
        "  print(\"The factorial of 0 is 1\")\n",
        "else:\n",
        "  for i in range(1, num + 1):\n",
        "    factorial *= i\n",
        "    print(factorial)\n"
      ],
      "metadata": {
        "colab": {
          "base_uri": "https://localhost:8080/"
        },
        "id": "mRqTdKVonssH",
        "outputId": "56585e2d-dc36-48ab-9b2f-c8d0890483ff"
      },
      "execution_count": 9,
      "outputs": [
        {
          "output_type": "stream",
          "name": "stdout",
          "text": [
            "Enter a number:7\n",
            "1\n",
            "2\n",
            "6\n",
            "24\n",
            "120\n",
            "720\n",
            "5040\n"
          ]
        }
      ]
    },
    {
      "cell_type": "code",
      "source": [
        "#  \"**Question 6:** Create variables of different data types: integer, float, string, and boolean. Print their values and types.\"\n",
        "a = 1\n",
        "b = 3.0\n",
        "str_val = \"Hello World\"\n",
        "bool_val = 'true'\n",
        "\n",
        "print(\"The value of integer is:\", a)\n",
        "print(\"The value of float is:\", b)\n",
        "print(\"The value of string is:\", str_val)\n",
        "print(\"The value of boolean is:\", bool_val)"
      ],
      "metadata": {
        "colab": {
          "base_uri": "https://localhost:8080/"
        },
        "id": "jowkvjp2t1Hh",
        "outputId": "cf446139-86a6-4cd4-d0ac-4de48392a032"
      },
      "execution_count": 12,
      "outputs": [
        {
          "output_type": "stream",
          "name": "stdout",
          "text": [
            "The value of integer is: 1\n",
            "The value of float is: 3.0\n",
            "The value of string is: Hello World\n",
            "The value of boolean is: true\n"
          ]
        }
      ]
    },
    {
      "cell_type": "code",
      "source": [
        "#   \"**Question 7:** Write a Python program to swap the values of two variables.\"\n",
        "\n",
        "a = 10\n",
        "b = 30\n",
        "temp = 0\n",
        "\n",
        "temp = a\n",
        "a = b\n",
        "b = temp\n",
        "\n",
        "print(\"The value of a after swaping is:\", a)\n",
        "print(\"The value of b after swaping is:\", b)\n"
      ],
      "metadata": {
        "colab": {
          "base_uri": "https://localhost:8080/"
        },
        "id": "2UPXh3WNu-dE",
        "outputId": "2c6821b4-3494-4e7c-ce5d-f8f485b9ff4d"
      },
      "execution_count": 15,
      "outputs": [
        {
          "output_type": "stream",
          "name": "stdout",
          "text": [
            "The value of a after swaping is: 30\n",
            "The value of b after swaping is: 10\n"
          ]
        }
      ]
    },
    {
      "cell_type": "code",
      "source": [
        "# \"**Question 8:** Write a Python program to convert Celsius to Fahrenheit.\"\n",
        "\n",
        "Celsius = float(input(\"Enter the temperature in Celsius:\"))\n",
        "Fahrenheit = (Celsius * 9/5) + 32\n",
        "print(\"Temperatue in Fahrenheit is:\", Fahrenheit)"
      ],
      "metadata": {
        "colab": {
          "base_uri": "https://localhost:8080/"
        },
        "id": "0CF5OWWowzer",
        "outputId": "b66c87e3-3ae6-4147-ecce-e76255d2a91d"
      },
      "execution_count": 17,
      "outputs": [
        {
          "output_type": "stream",
          "name": "stdout",
          "text": [
            "Enter the temperature in Celsius:3.4\n",
            "Temperatue in Fahrenheit is: 38.12\n"
          ]
        }
      ]
    },
    {
      "cell_type": "code",
      "source": [
        "# **Question 9:** Write a Python program to concatenate two strings.\"\n",
        "\n",
        "str1 = \"Hello\"\n",
        "str2 = \"World\"\n",
        "print (str1+ \" \" + str2)"
      ],
      "metadata": {
        "colab": {
          "base_uri": "https://localhost:8080/"
        },
        "id": "Wgoe6VjbylL0",
        "outputId": "335e0090-73e1-4257-fa44-c25c1ad3e469"
      },
      "execution_count": 19,
      "outputs": [
        {
          "output_type": "stream",
          "name": "stdout",
          "text": [
            "Hello World\n"
          ]
        }
      ]
    },
    {
      "cell_type": "code",
      "source": [
        "# \"**Question 10:** Write a Python program to check if a variable is of a specific data type.\"\n",
        "\n",
        "a = 10\n",
        "print(type(a))\n",
        "\n",
        "b = 3.6\n",
        "print(type(b))\n",
        "\n",
        "c = \"Hello World\"\n",
        "print(type(c))"
      ],
      "metadata": {
        "colab": {
          "base_uri": "https://localhost:8080/"
        },
        "id": "82Ol9avcy9Og",
        "outputId": "6d289274-1542-432e-d69f-36704631d766"
      },
      "execution_count": 25,
      "outputs": [
        {
          "output_type": "stream",
          "name": "stdout",
          "text": [
            "<class 'int'>\n",
            "<class 'float'>\n",
            "<class 'str'>\n",
            "<class 'str'>\n"
          ]
        }
      ]
    },
    {
      "cell_type": "code",
      "source": [
        "## 3. Basic Operators (Arithmetic, Comparison, Logical)\n",
        "## Question 11:** Write a Python program to perform arithmetic operations: addition, subtraction, multiplication, and division.\"\n",
        "\n",
        "num1 = int(input(\"Enter the first number:\"))\n",
        "num2 = int(input(\"Enter the second number:\"))\n",
        "\n",
        "print(\"Addition:\", num1 + num2)\n",
        "print(\"Subtraction:\", num1 - num2)\n",
        "print(\"Multiplication:\", num1 * num2)\n",
        "print(\"Division:\", num1 / num2)"
      ],
      "metadata": {
        "colab": {
          "base_uri": "https://localhost:8080/"
        },
        "id": "VFTpY4qV0eg5",
        "outputId": "65f5b786-c16d-4a78-f211-712f21b56017"
      },
      "execution_count": 26,
      "outputs": [
        {
          "output_type": "stream",
          "name": "stdout",
          "text": [
            "Enter the first number:1\n",
            "Enter the second number:4\n",
            "Addition: 5\n",
            "Subtraction: -3\n",
            "Multiplication: 4\n",
            "Division: 0.25\n"
          ]
        }
      ]
    },
    {
      "cell_type": "code",
      "source": [
        "##  \"**Question 12:** Write a Python program to demonstrate comparison operators: equal to, not equal to, greater than, less than.\"\n",
        "\n",
        "num1 = int(input(\"Enter the first number\"))\n",
        "num2 = int(input(\"Ente the second number\"))\n",
        "\n",
        "print(\"Equal to:\", num1 == num2)\n",
        "print(\"Not Equal to:\", num1 != num2)\n",
        "print(\"Greater than:\", num1 > num2)\n",
        "print(\"Less than:\", num1 < num2)"
      ],
      "metadata": {
        "colab": {
          "base_uri": "https://localhost:8080/"
        },
        "id": "qs3T3GAT1Y0Z",
        "outputId": "ddd070c9-5f46-43bd-9ee6-35ce5df80c98"
      },
      "execution_count": 27,
      "outputs": [
        {
          "output_type": "stream",
          "name": "stdout",
          "text": [
            "Enter the first number6\n",
            "Ente the second number90\n",
            "Equal to: False\n",
            "Not Equal to: True\n",
            "Greater than: False\n",
            "Less than: True\n"
          ]
        }
      ]
    },
    {
      "cell_type": "code",
      "source": [
        "# \"**Question 13:** Write a Python program to demonstrate logical operators: and, or, not.\"\n",
        "\n",
        "a = True\n",
        "b = False\n",
        "print(\"True and False:\", a and b)\n",
        "print(\"True or False:\", a or b)\n",
        "print(\"True not False:\", a and not b)\n",
        "\n"
      ],
      "metadata": {
        "colab": {
          "base_uri": "https://localhost:8080/"
        },
        "id": "3W5eqqKt-3pX",
        "outputId": "7402ebbe-96c2-463e-cdef-e9253df9510a"
      },
      "execution_count": 51,
      "outputs": [
        {
          "output_type": "stream",
          "name": "stdout",
          "text": [
            "True and False: False\n",
            "True or False: True\n",
            "True not False: True\n"
          ]
        }
      ]
    },
    {
      "cell_type": "code",
      "source": [
        " # \"**Question 14:** Write a Python program to calculate the square of a number.\n",
        "\n",
        " num1 = int(input(\"Enter the number\"))\n",
        " print(\"Square of a numbers:\", num1 ** 2)"
      ],
      "metadata": {
        "colab": {
          "base_uri": "https://localhost:8080/"
        },
        "id": "UNBmlzXb_A5J",
        "outputId": "1b1d26c1-c165-4505-f8cb-0df77b28bd70"
      },
      "execution_count": 28,
      "outputs": [
        {
          "output_type": "stream",
          "name": "stdout",
          "text": [
            "Enter the number8\n",
            "Square of a numbers: 64\n"
          ]
        }
      ]
    },
    {
      "cell_type": "code",
      "source": [
        "#  \"**Question 15:** Write a Python program to check if a number is even or odd.\"\n",
        "\n",
        "num = int(input(\"Enter the number\"))\n",
        "if num % 2 == 0:\n",
        "  print(\"The number is even:\", num)\n",
        "else:\n",
        "  print(\"The number is odd:\", num)"
      ],
      "metadata": {
        "colab": {
          "base_uri": "https://localhost:8080/"
        },
        "id": "BIx-SG82_bap",
        "outputId": "f04ec90a-28a2-4bf1-9b0e-a358e0ae7506"
      },
      "execution_count": 31,
      "outputs": [
        {
          "output_type": "stream",
          "name": "stdout",
          "text": [
            "Enter the number6\n",
            "The number is even: 6\n"
          ]
        }
      ]
    },
    {
      "cell_type": "code",
      "source": [
        "#  \"**Question 16:** Write a Python program to find the sum of the first n natural numbers.\"\n",
        "n = int(input(\"Enter the number\"))\n",
        "sum = 0\n",
        "for i in range(1, i + 1):\n",
        "  sum += i\n",
        "  print(\"The sum of first:\", n, \"first natural is:\", sum)"
      ],
      "metadata": {
        "colab": {
          "base_uri": "https://localhost:8080/"
        },
        "id": "7TR1vrPWCJtR",
        "outputId": "dc1513be-b75f-44b5-8b3d-95a082c0596c"
      },
      "execution_count": 39,
      "outputs": [
        {
          "output_type": "stream",
          "name": "stdout",
          "text": [
            "Enter the number1\n",
            "The sum of first: 1 first natural is: 1\n",
            "The sum of first: 1 first natural is: 3\n",
            "The sum of first: 1 first natural is: 6\n"
          ]
        }
      ]
    },
    {
      "cell_type": "code",
      "source": [
        "#  \"**Question 17:** Write a Python program to check if a year is a leap year.\"\n",
        "\n",
        "year = int(input(\"Ente the year\"))\n",
        "if (year % 4 == 0):\n",
        "   print(\"The year is leap:\", year)\n",
        "else:\n",
        "  print(\"The year is not leap:\", year)\n",
        ""
      ],
      "metadata": {
        "colab": {
          "base_uri": "https://localhost:8080/"
        },
        "id": "ymJx0cybHxN7",
        "outputId": "3731cf38-825b-45d6-ec2b-74b950118a3b"
      },
      "execution_count": 40,
      "outputs": [
        {
          "output_type": "stream",
          "name": "stdout",
          "text": [
            "Ente the year2010\n",
            "The year is not leap: 2010\n"
          ]
        }
      ]
    },
    {
      "cell_type": "code",
      "source": [
        " # \"**Question 18:** Write a Python program to reverse a string.\"\n",
        "\n",
        " str_val = str(input(\"Enter the string\"))\n",
        " print(\"The reverse string is:\", str_val[::-1])"
      ],
      "metadata": {
        "colab": {
          "base_uri": "https://localhost:8080/"
        },
        "id": "BKnjZfYkIpRB",
        "outputId": "2c76bdc7-aa70-4472-afe7-7931e717ec21"
      },
      "execution_count": 41,
      "outputs": [
        {
          "output_type": "stream",
          "name": "stdout",
          "text": [
            "Enter the stringhello\n",
            "The reverse string is: olleh\n"
          ]
        }
      ]
    },
    {
      "cell_type": "code",
      "source": [
        "#**Question 19:** Write a Python program to check if a string is a palindrome\n",
        "\n",
        "str_val = str(input(\"Enter the string\"))\n",
        "if str_val == str_val[::-1]:\n",
        "  print(\"The string is palindrome:\", str_val)\n",
        "else:\n",
        "  print(\"The string is not palindrome:\", str_val)"
      ],
      "metadata": {
        "colab": {
          "base_uri": "https://localhost:8080/"
        },
        "id": "RjCD2_HXJQ9N",
        "outputId": "27caea0e-73df-4a10-a519-64c2ce8d8f45"
      },
      "execution_count": 43,
      "outputs": [
        {
          "output_type": "stream",
          "name": "stdout",
          "text": [
            "Enter the stringpalindrome\n",
            "The string is not palindrome: palindrome\n"
          ]
        }
      ]
    },
    {
      "cell_type": "code",
      "source": [
        "# Write a Python program to sort a list of numbers in ascending order.\n",
        "\n",
        "numbers = [5, 3, 3, 1]\n",
        "numbers.sort()\n",
        "print(\"The sorted list is:\", numbers)"
      ],
      "metadata": {
        "colab": {
          "base_uri": "https://localhost:8080/"
        },
        "id": "4PC8nGizKEES",
        "outputId": "07890b92-09bf-491c-9e5b-00feaba03f35"
      },
      "execution_count": 45,
      "outputs": [
        {
          "output_type": "stream",
          "name": "stdout",
          "text": [
            "The sorted list is: [1, 3, 3, 5]\n"
          ]
        }
      ]
    }
  ]
}